{
 "cells": [
  {
   "cell_type": "code",
   "execution_count": 26,
   "metadata": {
    "collapsed": false
   },
   "outputs": [],
   "source": [
    "import pandas as pd\n",
    "from sklearn.mixture import GMM\n",
    "from matplotlib import pyplot as plt\n",
    "from matplotlib import mlab\n",
    "import numpy as np\n",
    "\n",
    "%matplotlib inline"
   ]
  },
  {
   "cell_type": "code",
   "execution_count": 4,
   "metadata": {
    "collapsed": false
   },
   "outputs": [],
   "source": [
    "observations = pd.read_csv('observations.csv')"
   ]
  },
  {
   "cell_type": "code",
   "execution_count": 22,
   "metadata": {
    "collapsed": false
   },
   "outputs": [],
   "source": [
    "heights = observations['0'].values"
   ]
  },
  {
   "cell_type": "code",
   "execution_count": 23,
   "metadata": {
    "collapsed": false
   },
   "outputs": [],
   "source": [
    "model = GMM(n_components=2, n_iter=100)"
   ]
  },
  {
   "cell_type": "code",
   "execution_count": 24,
   "metadata": {
    "collapsed": false
   },
   "outputs": [
    {
     "data": {
      "text/plain": [
       "GMM(covariance_type='diag', init_params='wmc', min_covar=0.001,\n",
       "  n_components=2, n_init=1, n_iter=100, params='wmc', random_state=None,\n",
       "  thresh=0.01)"
      ]
     },
     "execution_count": 24,
     "metadata": {},
     "output_type": "execute_result"
    }
   ],
   "source": [
    "model.fit(heights)"
   ]
  },
  {
   "cell_type": "code",
   "execution_count": 25,
   "metadata": {
    "collapsed": false
   },
   "outputs": [
    {
     "data": {
      "text/plain": [
       "(array([  2.,   3.,   1.,   6.,   7.,  13.,   7.,  19.,  25.,  13.,  31.,\n",
       "         25.,  32.,  25.,  19.,  27.,  24.,  27.,  41.,  43.,  28.,  48.,\n",
       "         38.,  45.,  33.,  41.,  36.,  35.,  27.,  19.,  18.,  13.,   9.,\n",
       "          8.,   4.,   3.,   2.,   0.,   3.]),\n",
       " array([ 145.53893748,  146.75841652,  147.97789557,  149.19737461,\n",
       "         150.41685366,  151.6363327 ,  152.85581175,  154.07529079,\n",
       "         155.29476984,  156.51424888,  157.73372793,  158.95320697,\n",
       "         160.17268602,  161.39216506,  162.6116441 ,  163.83112315,\n",
       "         165.05060219,  166.27008124,  167.48956028,  168.70903933,\n",
       "         169.92851837,  171.14799742,  172.36747646,  173.58695551,\n",
       "         174.80643455,  176.0259136 ,  177.24539264,  178.46487169,\n",
       "         179.68435073,  180.90382978,  182.12330882,  183.34278786,\n",
       "         184.56226691,  185.78174595,  187.001225  ,  188.22070404,\n",
       "         189.44018309,  190.65966213,  191.87914118,  193.09862022]),\n",
       " <a list of 39 Patch objects>)"
      ]
     },
     "execution_count": 25,
     "metadata": {},
     "output_type": "execute_result"
    },
    {
     "data": {
      "image/png": "[encoded data removed]",
      "text/plain": [
       "<matplotlib.figure.Figure at 0x107c8c550>"
      ]
     },
     "metadata": {},
     "output_type": "display_data"
    }
   ],
   "source": [
    "bins = np.linspace(min(heights), max(heights), 40)\n",
    "plt.hist(heights, bins = bins)"
   ]
  },
  {
   "cell_type": "code",
   "execution_count": 32,
   "metadata": {
    "collapsed": false
   },
   "outputs": [
    {
     "data": {
      "text/plain": [
       "[<matplotlib.lines.Line2D at 0x10825c5c0>]"
      ]
     },
     "execution_count": 32,
     "metadata": {},
     "output_type": "execute_result"
    },
    {
     "data": {
      "image/png": "[encoded data removed]",
      "text/plain": [
       "<matplotlib.figure.Figure at 0x1082672e8>"
      ]
     },
     "metadata": {},
     "output_type": "display_data"
    }
   ],
   "source": [
    "mixed_model = np.array([])\n",
    "\n",
    "for i in range(model.n_components):\n",
    "    pdf = mlab.normpdf(bins, model.means_[i][0], np.sqrt(model.covars_[i][0])) * len(observations) * model.weights_[i]\n",
    "    plt.plot(bins,pdf)\n",
    "    if mixed_model.any():\n",
    "        mixed_model += pdf\n",
    "    else:\n",
    "        mixed_model = pdf\n",
    "\n",
    "plt.hist(heights, bins = bins)\n",
    "plt.plot(bins,mixed_model)"
   ]
  },
  {
   "cell_type": "code",
   "execution_count": 28,
   "metadata": {
    "collapsed": false
   },
   "outputs": [
    {
     "data": {
      "text/plain": [
       "array([ 0.70781609,  0.29218391])"
      ]
     },
     "execution_count": 28,
     "metadata": {},
     "output_type": "execute_result"
    }
   ],
   "source": [
    "model.weights_"
   ]
  }
 ],
 "metadata": {
  "kernelspec": {
   "display_name": "Python 3",
   "language": "python",
   "name": "python3"
  },
  "language_info": {
   "codemirror_mode": {
    "name": "ipython",
    "version": 3
   },
   "file_extension": ".py",
   "mimetype": "text/x-python",
   "name": "python",
   "nbconvert_exporter": "python",
   "pygments_lexer": "ipython3",
   "version": "3.4.2"
  }
 },
 "nbformat": 4,
 "nbformat_minor": 0
}
